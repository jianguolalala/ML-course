{
 "cells": [
  {
   "cell_type": "markdown",
   "metadata": {},
   "source": [
    "# Principal Component Analysis\n",
    "*Complete and hand in this completed worksheet (including its outputs and any supporting code outside of the worksheet) with your assignment submission. Please check the pdf file for more details.*\n",
    "\n",
    "In this exercise you will:\n",
    "    \n",
    "- implement **Principal Component Analysis** and apply it to **restore rotated CAPTCHA**\n",
    "- play with **Eigenface** by applying PCA on a real world face dataset\n",
    "- use PCA to do **dimension reduction**. Evaluate the loss of information qualitatively and quantitatively\n",
    "\n",
    "Please note that **YOU CANNOT USE ANY MACHINE LEARNING PACKAGE SUCH AS SKLEARN** for any homework, unless you are asked to."
   ]
  },
  {
   "cell_type": "code",
   "execution_count": null,
   "metadata": {},
   "outputs": [],
   "source": [
    "# some basic imports\n",
    "import scipy.io as sio\n",
    "import numpy as np\n",
    "import matplotlib.pyplot as plt\n",
    "import math\n",
    "\n",
    "%matplotlib inline\n",
    "\n",
    "%load_ext autoreload\n",
    "%autoreload 2"
   ]
  },
  {
   "cell_type": "markdown",
   "metadata": {},
   "source": [
    "## Now let's hack the rotated CAPTCHA!"
   ]
  },
  {
   "cell_type": "code",
   "execution_count": null,
   "metadata": {},
   "outputs": [],
   "source": [
    "from hack_pca import hack_pca\n",
    "\n",
    "# Hack different images yourself\n",
    "img = hack_pca('1.gif')\n",
    "\n",
    "plt.imshow(img)"
   ]
  },
  {
   "cell_type": "markdown",
   "metadata": {},
   "source": [
    "## Apply PCA on face image"
   ]
  },
  {
   "cell_type": "code",
   "execution_count": null,
   "metadata": {},
   "outputs": [],
   "source": [
    "# load data\n",
    "ORL_data = sio.loadmat('ORL_data.mat')\n",
    "fea_Train = ORL_data['fea_Train']\n",
    "gnd_Train = ORL_data['gnd_Train'].reshape(-1)\n",
    "fea_Test = ORL_data['fea_Test']\n",
    "gnd_Test = ORL_data['gnd_Test'].reshape(-1)\n",
    "# YOUR CODE HERE\n",
    "\n",
    "# 1. Feature preprocessing\n",
    "# begin answer\n",
    "# end answer\n",
    "from show_face import show_face\n",
    "show_face(fea_Train)"
   ]
  },
  {
   "cell_type": "code",
   "execution_count": null,
   "metadata": {},
   "outputs": [],
   "source": [
    "# 2. Run PCA\n",
    "# begin answer\n",
    "# end answer\n",
    "# 3. Visualize eigenface\n",
    "# begin answer\n",
    "# end answer"
   ]
  },
  {
   "cell_type": "code",
   "execution_count": null,
   "metadata": {},
   "outputs": [],
   "source": [
    "# 4. Project data on to low dimensional space\n",
    "# begin answer\n",
    "# end answer\n",
    "\n",
    "# 5. Run KNN in low dimensional space\n",
    "# begin answer\n",
    "# end answer\n",
    "# 6. Recover face images form low dimensional space, visualize them\n",
    "# begin answer\n",
    "# end answer  "
   ]
  },
  {
   "cell_type": "markdown",
   "metadata": {},
   "source": [
    "## You are encouraged to apply LDA on this dataset!"
   ]
  },
  {
   "cell_type": "code",
   "execution_count": null,
   "metadata": {},
   "outputs": [],
   "source": [
    "from LDA import LDA\n",
    "\n",
    "# Your code here\n",
    "# begin answer\n",
    "# end answer"
   ]
  }
 ],
 "metadata": {
  "kernelspec": {
   "display_name": "Python 3",
   "language": "python",
   "name": "python3"
  },
  "language_info": {
   "codemirror_mode": {
    "name": "ipython",
    "version": 3
   },
   "file_extension": ".py",
   "mimetype": "text/x-python",
   "name": "python",
   "nbconvert_exporter": "python",
   "pygments_lexer": "ipython3",
   "version": "3.6.7"
  }
 },
 "nbformat": 4,
 "nbformat_minor": 2
}
